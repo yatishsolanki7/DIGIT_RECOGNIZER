{
 "cells": [
  {
   "cell_type": "code",
   "execution_count": 1,
   "metadata": {},
   "outputs": [],
   "source": [
    "import pandas as pd\n",
    "import tensorflow as tf\n",
    "import numpy as np\n",
    "import matplotlib.pyplot as plt"
   ]
  },
  {
   "cell_type": "code",
   "execution_count": 2,
   "metadata": {},
   "outputs": [
    {
     "name": "stderr",
     "output_type": "stream",
     "text": [
      "C:\\Users\\YATISH\\Anaconda3\\lib\\site-packages\\sklearn\\preprocessing\\_encoders.py:368: FutureWarning: The handling of integer data will change in version 0.22. Currently, the categories are determined based on the range [0, max(values)], while in the future they will be determined based on the unique values.\n",
      "If you want the future behaviour and silence this warning, you can specify \"categories='auto'\".\n",
      "In case you used a LabelEncoder before this OneHotEncoder to convert the categories to integers, then you can now use the OneHotEncoder directly.\n",
      "  warnings.warn(msg, FutureWarning)\n",
      "C:\\Users\\YATISH\\Anaconda3\\lib\\site-packages\\sklearn\\preprocessing\\_encoders.py:390: DeprecationWarning: The 'categorical_features' keyword is deprecated in version 0.20 and will be removed in 0.22. You can use the ColumnTransformer instead.\n",
      "  \"use the ColumnTransformer instead.\", DeprecationWarning)\n",
      "C:\\Users\\YATISH\\Anaconda3\\lib\\site-packages\\sklearn\\preprocessing\\_encoders.py:368: FutureWarning: The handling of integer data will change in version 0.22. Currently, the categories are determined based on the range [0, max(values)], while in the future they will be determined based on the unique values.\n",
      "If you want the future behaviour and silence this warning, you can specify \"categories='auto'\".\n",
      "In case you used a LabelEncoder before this OneHotEncoder to convert the categories to integers, then you can now use the OneHotEncoder directly.\n",
      "  warnings.warn(msg, FutureWarning)\n",
      "C:\\Users\\YATISH\\Anaconda3\\lib\\site-packages\\sklearn\\preprocessing\\_encoders.py:390: DeprecationWarning: The 'categorical_features' keyword is deprecated in version 0.20 and will be removed in 0.22. You can use the ColumnTransformer instead.\n",
      "  \"use the ColumnTransformer instead.\", DeprecationWarning)\n"
     ]
    }
   ],
   "source": [
    "train_d = pd.read_csv(r'C:\\Users\\YATISH\\Desktop\\pucho\\train.csv',header =None ,low_memory=False)\n",
    "\n",
    "dff = train_d.copy()\n",
    "dff.drop(0,inplace =True)\n",
    "dff.reset_index(drop =True,inplace = True)\n",
    "\n",
    "# taking 10000 entries only for all puposes\n",
    "Y = dff.iloc[0:10000,0:1]\n",
    "X = dff.iloc[0:10000,1:785]\n",
    "Y_test = dff.iloc[10000:42000,0:1]\n",
    "X_test = dff.iloc[10000:42000,1:785]\n",
    "\n",
    "from sklearn.preprocessing import OneHotEncoder\n",
    "ohe = OneHotEncoder(categorical_features=[0])\n",
    "Y = ohe.fit_transform(Y).toarray()\n",
    "Y_test = ohe.fit_transform(Y_test).toarray()"
   ]
  },
  {
   "cell_type": "code",
   "execution_count": null,
   "metadata": {},
   "outputs": [],
   "source": [
    "#train_d = pd.read_csv(r'C:\\Users\\YATISH\\Desktop\\pucho\\train.csv',header =None ,low_memory=False)\n",
    "#test_d = pd.read_csv(r'C:\\Users\\YATISH\\Desktop\\pucho\\test.csv',header = None , low_memory =False)\n",
    "#sub_file = pd.read_csv(r'C:\\Users\\YATISH\\Desktop\\pucho\\sample_submission.csv')\n",
    "\n",
    "#dff = train_d.copy()\n",
    "#dff.drop(0,inplace =True)\n",
    "#dff.reset_index(drop =True,inplace = True)\n",
    "\n",
    "#dft = test_d.copy()\n",
    "#dft.drop(0,inplace =True)\n",
    "#dft.reset_index(drop =True,inplace = True)\n",
    "\n",
    "#Y = dff.iloc[0:42000,0:1]\n",
    "#X = dff.iloc[0:42000,1:785]\n",
    "#X_test = dft.iloc[0:28000,0:784]\n",
    "\n",
    "#from sklearn.preprocessing import OneHotEncoder\n",
    "#ohe = OneHotEncoder(categorical_features=[0])\n",
    "#Y = ohe.fit_transform(Y).toarray()"
   ]
  },
  {
   "cell_type": "code",
   "execution_count": null,
   "metadata": {},
   "outputs": [],
   "source": [
    "#visualizing dataset\n",
    "first = X[3:4]\n",
    "im = np.array(first,dtype = 'float')\n",
    "im = im.reshape(28,28)\n",
    "plt.imshow(im)\n",
    "plt.show()"
   ]
  },
  {
   "cell_type": "code",
   "execution_count": 3,
   "metadata": {},
   "outputs": [],
   "source": [
    "# setting up dimensioins of layers\n",
    "input_width = 28\n",
    "input_height = 28\n",
    "input_channels = 1\n",
    "input_pixels = 784\n",
    "\n",
    "n_conv1 = 32\n",
    "n_conv2 = 64\n",
    "stride_conv1 = 1\n",
    "stride_conv2 = 1\n",
    "conv1_k = 5\n",
    "conv2_k = 5\n",
    "max_pool1_k = 2\n",
    "max_pool2_k = 2\n",
    "\n",
    "n_hidden = 1024\n",
    "n_output = 10\n",
    "\n",
    "input_size_to_hidden_layer = (input_width//(max_pool1_k*max_pool2_k))*(input_height//(max_pool1_k*max_pool2_k))*n_conv2"
   ]
  },
  {
   "cell_type": "code",
   "execution_count": 4,
   "metadata": {},
   "outputs": [
    {
     "name": "stdout",
     "output_type": "stream",
     "text": [
      "WARNING:tensorflow:From C:\\Users\\YATISH\\Anaconda3\\lib\\site-packages\\tensorflow\\python\\framework\\op_def_library.py:263: colocate_with (from tensorflow.python.framework.ops) is deprecated and will be removed in a future version.\n",
      "Instructions for updating:\n",
      "Colocations handled automatically by placer.\n"
     ]
    }
   ],
   "source": [
    "# assigning weights and biases\n",
    "weights = {\n",
    "    \"wc1\" : tf.Variable(tf.random_normal([conv1_k,conv1_k,input_channels,n_conv1])),\n",
    "    \"wc2\" : tf.Variable(tf.random_normal([conv2_k,conv2_k,n_conv1,n_conv2])),\n",
    "    \"whl\" : tf.Variable(tf.random_normal([input_size_to_hidden_layer,n_hidden])),\n",
    "    \"wo\"  : tf.Variable(tf.random_normal([n_hidden,n_output]))    \n",
    "}\n",
    "biases = {\n",
    "    \"bc1\" : tf.Variable(tf.random_normal([n_conv1])),\n",
    "    \"bc2\" : tf.Variable(tf.random_normal([n_conv2])),\n",
    "    \"bhl\" : tf.Variable(tf.random_normal([n_hidden])),\n",
    "    \"bo\"  : tf.Variable(tf.random_normal([n_output]))    \n",
    "}"
   ]
  },
  {
   "cell_type": "code",
   "execution_count": 5,
   "metadata": {},
   "outputs": [],
   "source": [
    "def conv(x,weights,biases,strides):\n",
    "    out = tf.nn.conv2d(x, weights, padding = \"SAME\", strides = [1, strides, strides, 1])\n",
    "    out = tf.nn.bias_add(out,biases)\n",
    "    out = tf.nn.relu(out)\n",
    "    return out\n",
    "\n",
    "def maxpool(m, k =2):\n",
    "    return tf.nn.max_pool(m, padding =\"SAME\", ksize = [1, k, k, 1], strides = [1, k, k, 1])"
   ]
  },
  {
   "cell_type": "code",
   "execution_count": 6,
   "metadata": {},
   "outputs": [],
   "source": [
    "def cnn(x,weights,biases):\n",
    "    x = tf.reshape(x, shape = [-1, input_width, input_height, input_channels])\n",
    "    conv1 = conv(x,weights['wc1'],biases['bc1'],stride_conv1)\n",
    "    conv1_pool = maxpool(conv1,max_pool1_k)\n",
    "    \n",
    "    conv2 = conv(conv1_pool,weights['wc2'],biases['bc2'],stride_conv2)\n",
    "    conv2_pool = maxpool(conv2,max_pool2_k)\n",
    "    \n",
    "    hidden_layer_input = tf.reshape(conv2_pool,shape = [-1,input_size_to_hidden_layer])\n",
    "    hidden_layer_output_before_activation = tf.add(tf.matmul(hidden_layer_input,weights['whl']),biases['bhl'])\n",
    "    hidden_layer_output = tf.nn.relu(hidden_layer_output_before_activation)\n",
    "    \n",
    "    out_before_add = tf.matmul(hidden_layer_output,weights['wo'])\n",
    "    output = tf.add(out_before_add,biases['bo'])\n",
    "    \n",
    "    return output"
   ]
  },
  {
   "cell_type": "code",
   "execution_count": 7,
   "metadata": {},
   "outputs": [],
   "source": [
    "x = tf.placeholder(\"float\",[None,input_pixels])\n",
    "y = tf.placeholder(\"float\",[None,n_output])\n",
    "pred = cnn(x,weights,biases)"
   ]
  },
  {
   "cell_type": "code",
   "execution_count": 8,
   "metadata": {},
   "outputs": [],
   "source": [
    "cost = tf.reduce_mean(tf.nn.softmax_cross_entropy_with_logits_v2(logits = pred,labels = y))"
   ]
  },
  {
   "cell_type": "code",
   "execution_count": 9,
   "metadata": {},
   "outputs": [],
   "source": [
    "optimizer = tf.train.AdamOptimizer(learning_rate = 0.01)\n",
    "optimize = optimizer.minimize(cost)"
   ]
  },
  {
   "cell_type": "code",
   "execution_count": 10,
   "metadata": {},
   "outputs": [],
   "source": [
    "sess = tf.Session()\n",
    "sess.run(tf.global_variables_initializer())"
   ]
  },
  {
   "cell_type": "code",
   "execution_count": 11,
   "metadata": {},
   "outputs": [
    {
     "name": "stdout",
     "output_type": "stream",
     "text": [
      "345551804.78125\n",
      "5880174.5322265625\n",
      "2452766.4937286377\n",
      "1010034.9453735352\n",
      "684779.1800079346\n",
      "433427.8554325104\n",
      "330668.7212982178\n",
      "390390.6194381714\n",
      "415317.56494140625\n",
      "556683.8142852783\n",
      "383858.9620437622\n",
      "287009.3519973755\n",
      "218088.94874572754\n",
      "262017.4090423584\n",
      "293978.9033203125\n",
      "245299.69150924683\n",
      "470864.84506225586\n",
      "407129.88024902344\n",
      "370571.5139160156\n",
      "698112.9031677246\n",
      "881521.277267456\n",
      "527078.6349487305\n",
      "553297.9660263062\n",
      "458498.949798584\n",
      "600582.9779968262\n"
     ]
    }
   ],
   "source": [
    "# batch gradient\n",
    "batch_size = 100\n",
    "for i in range(25):\n",
    "    n_batches = len(X)//batch_size\n",
    "    total_cost = 0\n",
    "    b = 1\n",
    "    for j in range(n_batches):\n",
    "        b = batch_size*j\n",
    "        batch_X = X[b:b+batch_size]\n",
    "        batch_Y = Y[b:b+batch_size]\n",
    "        c, _ = sess.run([cost,optimize],feed_dict ={x:batch_X,y:batch_Y})\n",
    "        total_cost += c\n",
    "    print(total_cost)"
   ]
  },
  {
   "cell_type": "code",
   "execution_count": 12,
   "metadata": {},
   "outputs": [
    {
     "name": "stdout",
     "output_type": "stream",
     "text": [
      "accuracy =  96.05625\n"
     ]
    }
   ],
   "source": [
    "predictions = tf.argmax(pred,1)\n",
    "true_labels = tf.argmax(Y_test,1)\n",
    "correct_predictions = tf.equal(predictions,true_labels)\n",
    "\n",
    "pred_eval,labels,correct_pred = sess.run([predictions,true_labels,correct_predictions] , feed_dict = {x:X_test,y:Y_test})\n",
    "c_num = correct_pred.sum()\n",
    "\n",
    "sess.close()\n",
    "print(\"accuracy = \",(c_num*100)/len(X_test))"
   ]
  },
  {
   "cell_type": "code",
   "execution_count": null,
   "metadata": {},
   "outputs": [],
   "source": [
    "'''predictions = tf.argmax(pred,1)\n",
    "\n",
    "pred_eval = sess.run(predictions , feed_dict = {x:X_test})\n",
    "\n",
    "for i in range(len(sub_file)):\n",
    "    sub_file.Label[i] = pred_eval[i]\n",
    "sub_file.to_csv(r'C:\\Users\\YATISH\\Desktop\\pucho\\submission_2.csv',index = False)'''"
   ]
  },
  {
   "cell_type": "code",
   "execution_count": null,
   "metadata": {},
   "outputs": [],
   "source": []
  }
 ],
 "metadata": {
  "kernelspec": {
   "display_name": "Python 3",
   "language": "python",
   "name": "python3"
  },
  "language_info": {
   "codemirror_mode": {
    "name": "ipython",
    "version": 3
   },
   "file_extension": ".py",
   "mimetype": "text/x-python",
   "name": "python",
   "nbconvert_exporter": "python",
   "pygments_lexer": "ipython3",
   "version": "3.7.1"
  }
 },
 "nbformat": 4,
 "nbformat_minor": 2
}
